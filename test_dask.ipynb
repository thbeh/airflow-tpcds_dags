{
 "cells": [
  {
   "cell_type": "code",
   "execution_count": 2,
   "metadata": {
    "tags": [
     "parameters"
    ]
   },
   "outputs": [],
   "source": [
    "project='dask'"
   ]
  },
  {
   "cell_type": "code",
   "execution_count": 8,
   "metadata": {},
   "outputs": [
    {
     "data": {
      "text/html": [
       "<table style=\"border: 2px solid white;\">\n",
       "<tr>\n",
       "<td style=\"vertical-align: top; border: 0px solid white\">\n",
       "<h3 style=\"text-align: left;\">Client</h3>\n",
       "<ul style=\"text-align: left; list-style: none; margin: 0; padding: 0;\">\n",
       "  <li><b>Scheduler: </b>tcp://192.168.20.73:8786</li>\n",
       "  <li><b>Dashboard: </b><a href='http://192.168.20.73:8787/status' target='_blank'>http://192.168.20.73:8787/status</a>\n",
       "</ul>\n",
       "</td>\n",
       "<td style=\"vertical-align: top; border: 0px solid white\">\n",
       "<h3 style=\"text-align: left;\">Cluster</h3>\n",
       "<ul style=\"text-align: left; list-style:none; margin: 0; padding: 0;\">\n",
       "  <li><b>Workers: </b>8</li>\n",
       "  <li><b>Cores: </b>16</li>\n",
       "  <li><b>Memory: </b>64.00 GB</li>\n",
       "</ul>\n",
       "</td>\n",
       "</tr>\n",
       "</table>"
      ],
      "text/plain": [
       "<Client: 'tcp://172.18.0.4:8786' processes=8 threads=16, memory=64.00 GB>"
      ]
     },
     "execution_count": 8,
     "metadata": {},
     "output_type": "execute_result"
    }
   ],
   "source": [
    "from dask.distributed import Client\n",
    "client = Client('192.168.20.73:8786')\n",
    "client"
   ]
  },
  {
   "cell_type": "code",
   "execution_count": 12,
   "metadata": {},
   "outputs": [
    {
     "data": {
      "text/plain": [
       "['dask-data/nyc-taxi/yellow_tripdata_2018-01.csv',\n",
       " 'dask-data/nyc-taxi/yellow_tripdata_2018-02.csv',\n",
       " 'dask-data/nyc-taxi/yellow_tripdata_2018-03.csv',\n",
       " 'dask-data/nyc-taxi/yellow_tripdata_2018-04.csv',\n",
       " 'dask-data/nyc-taxi/yellow_tripdata_2018-05.csv',\n",
       " 'dask-data/nyc-taxi/yellow_tripdata_2018-06.csv',\n",
       " 'dask-data/nyc-taxi/yellow_tripdata_2018-07.csv',\n",
       " 'dask-data/nyc-taxi/yellow_tripdata_2018-08.csv',\n",
       " 'dask-data/nyc-taxi/yellow_tripdata_2018-09.csv',\n",
       " 'dask-data/nyc-taxi/yellow_tripdata_2018-10.csv',\n",
       " 'dask-data/nyc-taxi/yellow_tripdata_2018-11.csv',\n",
       " 'dask-data/nyc-taxi/yellow_tripdata_2018-12.csv']"
      ]
     },
     "execution_count": 12,
     "metadata": {},
     "output_type": "execute_result"
    }
   ],
   "source": [
    "from s3fs import S3FileSystem\n",
    "s3 = S3FileSystem(key='minio', secret='minio123', client_kwargs={'endpoint_url':'http://192.168.20.72:9000'})\n",
    "s3.ls('dask-data/nyc-taxi//')"
   ]
  },
  {
   "cell_type": "code",
   "execution_count": 13,
   "metadata": {},
   "outputs": [],
   "source": [
    "import dask.dataframe as dd\n",
    "\n",
    "df = dd.read_csv('s3://dask-data/nyc-taxi/*.csv',\n",
    "                 parse_dates=['tpep_pickup_datetime', 'tpep_dropoff_datetime'],\n",
    "                 storage_options={'key':'minio', 'secret':'minio123', 'client_kwargs':{'endpoint_url':'http://192.168.20.72:9000'}})\n",
    "df = client.persist(df)"
   ]
  },
  {
   "cell_type": "code",
   "execution_count": null,
   "metadata": {},
   "outputs": [],
   "source": []
  }
 ],
 "metadata": {
  "kernelspec": {
   "display_name": "Python 3",
   "language": "python",
   "name": "python3"
  },
  "language_info": {
   "codemirror_mode": {
    "name": "ipython",
    "version": 3
   },
   "file_extension": ".py",
   "mimetype": "text/x-python",
   "name": "python",
   "nbconvert_exporter": "python",
   "pygments_lexer": "ipython3",
   "version": "3.7.3"
  }
 },
 "nbformat": 4,
 "nbformat_minor": 4
}
